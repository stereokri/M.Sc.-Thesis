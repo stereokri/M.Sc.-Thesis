{
 "cells": [
  {
   "cell_type": "markdown",
   "metadata": {},
   "source": [
    "## Libraries"
   ]
  },
  {
   "cell_type": "code",
   "execution_count": null,
   "metadata": {},
   "outputs": [
    {
     "name": "stderr",
     "output_type": "stream",
     "text": [
      "USER_AGENT environment variable not set, consider setting it to identify your requests.\n"
     ]
    }
   ],
   "source": [
    "from datetime import datetime\n",
    "from langchain_community.llms import Ollama\n",
    "from langchain_community.document_loaders import WebBaseLoader\n",
    "from langchain.document_loaders import PyMuPDFLoader\n",
    "from langchain.text_splitter import RecursiveCharacterTextSplitter, CharacterTextSplitter\n",
    "from langchain_community.embeddings import HuggingFaceEmbeddings\n",
    "from langchain_community.embeddings import OllamaEmbeddings\n",
    "from langchain_community.embeddings import SentenceTransformerEmbeddings\n",
    "from langchain_community.vectorstores import Chroma\n",
    "from langchain import hub\n",
    "from langchain_core.runnables import RunnablePassthrough\n",
    "from langchain_core.output_parsers import StrOutputParser\n",
    "# from langchain_openai import OpenAIEmbeddings\n",
    "from sentence_transformers import SentenceTransformer, util\n",
    "\n",
    "# from utils.console_format import color\n",
    "# import utils.prompt_templates as prompt_templates\n",
    "from pathlib import Path\n",
    "import time\n",
    "import sys\n",
    "import shutil\n",
    "import ssl\n",
    "import csv\n",
    "import json\n",
    "import hashlib\n",
    "import os\n",
    "import urllib3\n",
    "import bs4"
   ]
  },
  {
   "cell_type": "markdown",
   "metadata": {},
   "source": [
    "## LLM Model and Similarity definition"
   ]
  },
  {
   "cell_type": "code",
   "execution_count": null,
   "metadata": {},
   "outputs": [
    {
     "name": "stdout",
     "output_type": "stream",
     "text": [
      "[INFO] You're using deepseek-r1:8b model now\n"
     ]
    }
   ],
   "source": [
    "SPECIAL = False\n",
    "ONLINE = True\n",
    "\n",
    "urllib3.disable_warnings(urllib3.exceptions.InsecureRequestWarning)\n",
    "ssl._create_default_https_context = ssl._create_unverified_context\n",
    "\n",
    "USE_PERSIST_DB = False\n",
    "\n",
    "MODEL = 'deepseek-r1:8b'\n",
    "\n",
    "CWD = os.getcwd()\n",
    "print(\"[INFO] You're using \" + MODEL + \" model now\")\n",
    "\n",
    "time_str = datetime.now().strftime('%Y-%m-%d-%H%M%S')\n",
    "\n",
    "CHROMA_PERSIST_DIR = \"./chroma_db_\" + time_str\n",
    "\n",
    "\n",
    "ollama = Ollama(\n",
    "    base_url='http://localhost:11434',\n",
    "    model=MODEL,\n",
    "    temperature=0,\n",
    ")\n"
   ]
  },
  {
   "cell_type": "code",
   "execution_count": 3,
   "metadata": {},
   "outputs": [
    {
     "name": "stdout",
     "output_type": "stream",
     "text": [
      "0.3297243118286133\n"
     ]
    }
   ],
   "source": [
    "similarityModel = SentenceTransformer('all-MiniLM-L6-v2')\n",
    "\n",
    "def semanticSimilarity(str1, str2):\n",
    "    emb1 = similarityModel.encode(str1, convert_to_tensor=True)\n",
    "    emb2 = similarityModel.encode(str2, convert_to_tensor=True)\n",
    "    return util.pytorch_cos_sim(emb1, emb2).item()\n",
    "\n",
    "ground_truth = \"Martin plays volleyball. He performs well.\"\n",
    "llm_output = \"Andrei is not a good chess player\"\n",
    "\n",
    "print(semanticSimilarity(ground_truth, llm_output))"
   ]
  },
  {
   "cell_type": "markdown",
   "metadata": {},
   "source": [
    "## Loader"
   ]
  },
  {
   "cell_type": "code",
   "execution_count": null,
   "metadata": {},
   "outputs": [
    {
     "name": "stdout",
     "output_type": "stream",
     "text": [
      "  \n",
      "  \n",
      " \n",
      " ...\n"
     ]
    }
   ],
   "source": [
    "pdf_path = \"pdfDocs/OfMiceAndMen.pdf\"\n",
    "loader = PyMuPDFLoader(pdf_path)\n",
    "\n",
    "docs = [doc for doc in loader.load() if doc.page_content and isinstance(doc.page_content, str)]"
   ]
  },
  {
   "cell_type": "markdown",
   "metadata": {},
   "source": [
    "## Embedder"
   ]
  },
  {
   "cell_type": "code",
   "execution_count": null,
   "metadata": {},
   "outputs": [],
   "source": [
    "oembed = OllamaEmbeddings(base_url=\"http://localhost:11434\", model=\"nomic-embed-text\")"
   ]
  },
  {
   "cell_type": "markdown",
   "metadata": {},
   "source": [
    "## Questions and Answers"
   ]
  },
  {
   "cell_type": "code",
   "execution_count": 7,
   "metadata": {},
   "outputs": [],
   "source": [
    "QUESTIONS = [None] * 60\n",
    "ANSWERS = [None] * 60"
   ]
  },
  {
   "cell_type": "markdown",
   "metadata": {},
   "source": [
    "### Questions and Answers Chapter 1"
   ]
  },
  {
   "cell_type": "code",
   "execution_count": 8,
   "metadata": {},
   "outputs": [],
   "source": [
    "QUESTIONS[0] = \"When George and Lennie approach the river, why does George warn Lennie not to drink too much water?\"\n",
    "\n",
    "QUESTIONS[1] = \"What has George told Lennie about that he always remembers even when he forgets everything else?\"\n",
    "\n",
    "QUESTIONS[2] = \"Why does Lennie have a dead mouse in his pocket?\"\n",
    "\n",
    "QUESTIONS[3] = \"Why does George order Lennie not to talk when they get to the ranch?\"\n",
    "\n",
    "QUESTIONS[4] = \"What happened to all of the mice that Lennie's Aunt Clara gave him?\"\n",
    "\n",
    "QUESTIONS[5] = \"Why have George and Lennie run away from Weed?\"\n",
    "\n",
    "QUESTIONS[6] = \"What does Lennie want to eat with his beans?\"\n",
    "\n",
    "QUESTIONS[7] = \"Why does George say that migrant workers who travel from farm to farm are the loneliest people in the world?\"\n",
    "\n",
    "QUESTIONS[8] = \"What dream do George and Lennie share?\"\n",
    "\n",
    "QUESTIONS[9] = \"What does George tell Lennie to do if he gets in trouble at their new job site?\"\n",
    "\n",
    "\n",
    "ANSWERS[0] = \"George says Lennie will be sick like he was the night before.\"\n",
    "\n",
    "ANSWERS[1] = \"Lennie always remembers that he will be the one to tend the rabbits on their dream farm.\"\n",
    "\n",
    "ANSWERS[2] = \"He is carrying it in his pocket so he can pet it as they walk. He likes to pet soft things.\"\n",
    "\n",
    "ANSWERS[3] = \"George says that if the boss hears Lennie talk before he sees Lennie work, the two men won't have a chance of getting the job.\" \n",
    "\n",
    "ANSWERS[4] = \"He killed the mice by petting them too hard.\"\n",
    "\n",
    "ANSWERS[5] = \"Lennie tried to feel a girl's dress. He wanted to pet the dress but she thought he was attacking her.\"\n",
    "\n",
    "ANSWERS[6] = \"Lennie wants ketchup to put on his beans.\"\n",
    "\n",
    "ANSWERS[7] = \"He says migrant workers are lonely because they don't have any family, they don't belong anywhere, and they have nothing to look forward to.\"\n",
    "\n",
    "ANSWERS[8] = \"They share the dream of buying a small farm together and working it. On this farm Lennie will tend the rabbits and pet them whenever he wants.\"\n",
    "\n",
    "ANSWERS[9] = \"George tells Lennie to come to this spot where they are camping and hide in the bushes until George comes for him.\""
   ]
  },
  {
   "cell_type": "markdown",
   "metadata": {},
   "source": [
    "### Questions and Answers Chapter 2"
   ]
  },
  {
   "cell_type": "code",
   "execution_count": 9,
   "metadata": {},
   "outputs": [],
   "source": [
    "QUESTIONS[10] = \"Where do the ranch hands keep their personal belongings such as soap, razors and magazines?\"\n",
    "\n",
    "QUESTIONS[11] = \"Candy, the old swamper who shows George and Lennie to their bunks, is missing what limb?\"\n",
    "\n",
    "QUESTIONS[12] = \"What evidence does the old swamper give that the ranch boss is a “pretty nice fella”?\"\n",
    "\n",
    "QUESTIONS[13] = \"What evidence is there that the boss is not a working man?\"\n",
    "\n",
    "QUESTIONS[14] = \"According to the old swamper, what is Curley good at?\"\n",
    "\n",
    "QUESTIONS[15] = \"According to the old swamper, why does Curley wear a work glove on his left hand?\"\n",
    "\n",
    "QUESTIONS[16] = \"What is the general attitude toward Curley's wife?\"\n",
    "\n",
    "QUESTIONS[17] = \"Describe Slim, the jerkline skinner.\"\n",
    "\n",
    "QUESTIONS[18] = \"Why does Carlson suggest shooting Candy's dog?\"\n",
    "\n",
    "QUESTIONS[19] = \"What is the understood question that Lennie wants George to ask Slim?\"\n",
    "\n",
    "ANSWERS[10] = \"Each ranch hand keeps his personal items in the apple box nailed over his bunk for that purpose.\"\n",
    "\n",
    "ANSWERS[11] = \"Candy, the old swamper, is missing a hand.\"\n",
    "\n",
    "ANSWERS[12] = \"Candy says that the boss brought a whole gallon of whiskey to the men in the bunkhouse for Christmas.\"\n",
    "\n",
    "ANSWERS[13] = \"The boss wears high-heeled boots and spurs.\"\n",
    "\n",
    "ANSWERS[14] = \"Candy says Curley is good at boxing.\"\n",
    "\n",
    "ANSWERS[15] = \"Candy says Curley wears the work glove full of Vaseline to keep his hand soft for his new wife.\"\n",
    "\n",
    "ANSWERS[16] = \"The men think she is flirting with them. Candy calls her a tart; George calls her a tramp. Lennie thinks she is pretty.\"\n",
    "\n",
    "ANSWERS[17] = \"Slim is a master craftsman. He is an expert with the mules and his authority is respected more than anyone else's on the ranch.\"\n",
    "\n",
    "ANSWERS[18] = \"Carlson suggests shooting Candy's dog because it is so old and it stinks.\"\n",
    "\n",
    "ANSWERS[19] = \"Lennie wants George to ask Slim if Lennie can have one of the puppies Slim's dog has just delivered.\""
   ]
  },
  {
   "cell_type": "markdown",
   "metadata": {},
   "source": [
    "### Questions and Answers Chapter 3"
   ]
  },
  {
   "cell_type": "code",
   "execution_count": 10,
   "metadata": {},
   "outputs": [],
   "source": [
    "QUESTIONS[20] = \"Why does George say Lennie will want to sleep in the barn that Friday night?\"\n",
    "\n",
    "QUESTIONS[21] = \"According to George, how did he end up traveling with Lennie?\"\n",
    "\n",
    "QUESTIONS[22] = \"What happened that made George stop playing dirty tricks on Lennie?\"\n",
    "\n",
    "QUESTIONS[23] = \"Why did George and Lennie have to flee from Weed?\"\n",
    "\n",
    "QUESTIONS[24] = \"Who makes the final decision on whether or not Candy's old dog should be shot?\"\n",
    "\n",
    "QUESTIONS[25] = \"What is significant about the letter Whit reads from the Western magazine?\"\n",
    "\n",
    "QUESTIONS[26] = \"Why does George agree to let Candy come with them to their dream farm?\"\n",
    "\n",
    "QUESTIONS[27] = \"Why does Curley attack Lennie in the bunk house?\"\n",
    "\n",
    "QUESTIONS[28] = \"Why does Curley agree not to get Lennie fired for crushing his hand?\"\n",
    "\n",
    "QUESTIONS[29] = \"What punishment does Lennie fear he will get for hurting Curley?\"\n",
    "\n",
    "\n",
    "ANSWERS[20] = \"George says Lennie will want to sleep with the puppy Slim has said Lennie can have when it is weaned.\"\n",
    "\n",
    "ANSWERS[21] = \"George says that he and Lennie are both from Auburn and that he knew Lennie's Aunt Clara who raised him. He says that when the aunt died Lennie had just come along with him to work.\"\n",
    "\n",
    "ANSWERS[22] = \"The last time George played a trick on Lennie, he told Lennie to jump into a river and Lennie did even though he couldn’t swim. Before George got him out, he almost drowned. Lennie, however, was thankful to George for getting him out instead of angry for telling him to jump in.\"\n",
    "\n",
    "ANSWERS[23] = \"George says that he and Lennie had to flee from Weed because Lennie was accused of trying to rape a girl there. In fact, he had only been trying to feel the dress she was wearing.\"\n",
    "\n",
    "ANSWERS[24] = \"Slim is the one who makes the final decision.\"\n",
    "\n",
    "ANSWERS[25] = \"The letter was written by a former ranch hand they had known.\"\n",
    "\n",
    "ANSWERS[26] = \"Candy offers to give George $350, his life's savings, if they will let him come along. With his money they should be able to buy the farm at the end of the next month so George agrees to let him in on their dream.\"\n",
    "\n",
    "ANSWERS[27] = \"Curley attacks Lennie because he thinks Lennie is laughing at him after Carlson has called him “yella as a frog belly.” In fact, Lennie is smiling at the idea in his head of their farm.\"\n",
    "\n",
    "ANSWERS[28] = \"Slim convinces Curley that if he tells, everyone will laugh at him for getting beaten up by a retarded man.\"\n",
    "\n",
    "ANSWERS[29] = \"George has told Lennie that he will not let Lennie tend the rabbits if he does one more bad thing. Lennie is afraid this will be that bad thing.\""
   ]
  },
  {
   "cell_type": "markdown",
   "metadata": {},
   "source": [
    "### Questions and Answers Chapter 4"
   ]
  },
  {
   "cell_type": "code",
   "execution_count": 11,
   "metadata": {},
   "outputs": [],
   "source": [
    "QUESTIONS[30] = \"Why has Crooks been able to accumulate more personal items than the other ranch hands?\"\n",
    "\n",
    "QUESTIONS[31] = \"What reason does Crooks first give for Lennie not being welcome in his room?\"\n",
    "\n",
    "QUESTIONS[32] = \"According to Crooks, why does a person need a companion?\"\n",
    "\n",
    "QUESTIONS[33] = \"What is Crooks's initial response to Candy's account of the dream farm and what evidence is there that his attitude changes?\"\n",
    "\n",
    "QUESTIONS[34] = \"According to Curley's wife, why are the men afraid to talk to her when there is more than one present?\"\n",
    "\n",
    "QUESTIONS[35] = \"Why doesn't Curley's wife like talking to her husband?\"\n",
    "\n",
    "QUESTIONS[36] = \"What reason does Candy give when he says that they are no longer afraid that Curley's wife will get them fired?\"\n",
    "\n",
    "QUESTIONS[37] = \"What makes Crooks so bold as to confront Curley's wife and tell her to leave his room?\"\n",
    "\n",
    "QUESTIONS[38] = \"How does Candy finally make Curley's wife leave the barn?\"\n",
    "\n",
    "QUESTIONS[39] = \"What does George say about Candy and Lennie visiting with Crooks?\"\n",
    "\n",
    "ANSWERS[30] = \"Because of the type of job he has and because Crooks is crippled, he is more permanent than the other men, so he can accumulate personal items without having to worry about how he will carry them with him to the next job.\"\n",
    "\n",
    "ANSWERS[31] = \"Crooks says at first that Lennie is not welcome in his room because Crooks is not welcome in the bunkhouse.\"\n",
    "\n",
    "ANSWERS[32] = \"Crooks says that a person who stays alone too long goes “nuts.”\"\n",
    "\n",
    "ANSWERS[33] = \"Crooks says that the dream will never materialize. He says he has seen hundreds of men chasing the same dream and never catching it. But when he hears that they have the money for the farm in the bank, he becomes more convinced and even offers to work for free if they will let him come with them.\"\n",
    "\n",
    "ANSWERS[34] = \"Curley's wife says that the men are “scared of each other... scared the rest is going to get something on you.”\"\n",
    "\n",
    "ANSWERS[35] = \"Curley's wife doesn't like talking to her husband because all he ever wants to talk about is beating up people.\"\n",
    "\n",
    "ANSWERS[36] = \"Candy explains that they are no longer afraid because they now have somewhere else to go—their own farm.\"\n",
    "\n",
    "ANSWERS[37] = \"He forgets his own limitations as a black man of the 1930s because Lennie and Candy have come in and treated him as an equal. For a moment, he later explains, he forgot how powerless he really is there.\"\n",
    "\n",
    "ANSWERS[38] = \"Candy gets Curley's wife to leave the barn by telling her that he has heard the other men returning from town.\"\n",
    "\n",
    "ANSWERS[39] = \"George tells them that they should not be in Crooks's room and that they should not have told him about the farm.\""
   ]
  },
  {
   "cell_type": "markdown",
   "metadata": {},
   "source": [
    "### Questions and Answers Chapter 5"
   ]
  },
  {
   "cell_type": "code",
   "execution_count": 12,
   "metadata": {},
   "outputs": [],
   "source": [
    "\n",
    "QUESTIONS[40] = \"What has happened to Lennie's puppy and why?\"\n",
    "\n",
    "QUESTIONS[41] = \"What two pieces of information does Curley's wife share with Lennie?\"\n",
    "\n",
    "QUESTIONS[42] = \"Why does Curley's wife offer to let Lennie caress her hair?\"\n",
    "\n",
    "QUESTIONS[43] = \"How and why does Lennie kill Curley's wife?\"\n",
    "\n",
    "QUESTIONS[44] = \"Why does George say that they can't let Lennie escape to live on his own?\"\n",
    "\n",
    "QUESTIONS[45] = \"What is Candy's greatest fear?\"\n",
    "\n",
    "QUESTIONS[46] = \"When George asks Slim about just trying to catch Lennie instead of killing him, what advice does Slim give George?\"\n",
    "\n",
    "QUESTIONS[47] = \"What makes the men think that Lennie is armed?\"\n",
    "\n",
    "QUESTIONS[48] = \"Where does Curley plan to aim if he shoots Lennie?\"\n",
    "\n",
    "QUESTIONS[49] = \"Who stays with Curley's wife as the others go off in pursuit of Lennie?\"\n",
    "\n",
    "\n",
    "ANSWERS[40] = \"Lennie has killed his puppy by bouncing it too hard.\"\n",
    "\n",
    "ANSWERS[41] = \"Curley's wife tells him about her dream to be an actress, and she tells him her secret that she does not like Curley.\"\n",
    "\n",
    "ANSWERS[42] = \"Curley's wife says that she shares Lennie's fondness of soft things and since she regards him as “a big baby,” she sees no harm in letting him feel the softness of her hair.\"\n",
    "\n",
    "ANSWERS[43] = \"Lennie kills Curley's wife by breaking her neck because he is shaking her, trying to make her be quiet so he won't get into trouble.\"\n",
    "\n",
    "ANSWERS[44] = \"George says that Lennie will starve out on his own.\"\n",
    "\n",
    "ANSWERS[45] = \"Candy's greatest fear is that they will not get the farm.\"\n",
    "\n",
    "ANSWERS[46] = \"Slim tells George that if they just catch Lennie, he would be strapped down and caged, which would be worse than death.\"\n",
    "\n",
    "ANSWERS[47] = \"The men think that Lennie is armed because Carlson comes into the barn and announces that his gun is missing.\"\n",
    "\n",
    "ANSWERS[48] = \"Curley is planning to shoot Lennie in the stomach.\"\n",
    "\n",
    "ANSWERS[49] = \"Candy stays with Curley's wife.\"\n"
   ]
  },
  {
   "cell_type": "markdown",
   "metadata": {},
   "source": [
    "### Questions and Answers Chapter 6"
   ]
  },
  {
   "cell_type": "code",
   "execution_count": 13,
   "metadata": {},
   "outputs": [],
   "source": [
    "QUESTIONS[50] = \"What scenes of death does Steinbeck describe in the beginning of Chapter 6 that parallel the events of the previous chapter and foreshadow the event to come?\"\n",
    "\n",
    "QUESTIONS[51] = \"How does the chapter bring the book full circle?\"\n",
    "\n",
    "QUESTIONS[52] = \"What two imaginary visitors does Lennie have while sitting on the river bank?\"\n",
    "\n",
    "QUESTIONS[53] = \"What is the subject of the conversation Lennie has with his first visitor?\"\n",
    "\n",
    "QUESTIONS[54] = \"What does his second visitor tell Lennie that recalls an earlier conversation he had with Crooks?\"\n",
    "\n",
    "QUESTIONS[55] = \"How is George and Lennie's conversation similar to the one that they had by the pool in Chapter 1?\"\n",
    "\n",
    "QUESTIONS[56] = \"Where has George gotten the gun he takes from his front pocket while sitting with Lennie on the river bank?\"\n",
    "\n",
    "QUESTIONS[57] = \"What evidence is there that George is having a terribly difficult time bringing himself to shoot Lennie?\"\n",
    "\n",
    "QUESTIONS[58] = \"What lie does George tell about the way Lennie died?\"\n",
    "\n",
    "QUESTIONS[59] = \"What evidence is there that Slim understands what has really happened there on the river bank?\"\n",
    "\n",
    "\n",
    "ANSWERS[50] = \"A water snake gliding in the pool is caught by a heron and eaten while its tail waves frantically, and a strong wind blows into the clearing and dies down.\"\n",
    "\n",
    "ANSWERS[51] = \"The book begins and ends at the pool by the clearing.\"\n",
    "\n",
    "ANSWERS[52] = \"While sitting by the clearing Lennie is visited by a hallucination of his Aunt Clara and of a gigantic rabbit.\"\n",
    "\n",
    "ANSWERS[53] = \"Aunt Clara accuses Lennie of doing bad things. She tells him how George is always doing nice things for Lennie and taking care of him.\"\n",
    "\n",
    "ANSWERS[54] = \"The rabbit tells Lennie that George isn't going to let Lennie tend the rabbits and that he's going to beat him with a stick. Like Crooks, the gigantic rabbit says that George is going to leave Lennie and never come back.\"\n",
    "\n",
    "ANSWERS[55] = \"As in the first chapter, George tells Lennie how easy his life would be if he was alone. And Lennie tells George that he will run off to the hills and find a cave to live in by himself.\"\n",
    "\n",
    "ANSWERS[56] = \"George has taken the gun he has from Carlson's bunk.\"\n",
    "\n",
    "ANSWERS[57] = \"The first time George raises the gun to the back of Lennie's head, he can't pull the trigger and lays the gun down again. The second time, when he does fire the gun, his hand is shaking violently.\"\n",
    "\n",
    "ANSWERS[58] = \"George lets the men believe that he took the gun from Lennie and then shot him in the same attitude as they would have.\"\n",
    "\n",
    "ANSWERS[59] = \"Slim shows that he understands what George has done as he consoles George and tells him that he has only done what he had to do.\"\n",
    "\n"
   ]
  },
  {
   "cell_type": "markdown",
   "metadata": {},
   "source": [
    "## Generation"
   ]
  },
  {
   "cell_type": "code",
   "execution_count": null,
   "metadata": {},
   "outputs": [],
   "source": [
    "from langchain.chains import create_retrieval_chain\n",
    "from langchain.chains.combine_documents import create_stuff_documents_chain\n",
    "from langchain_core.prompts import ChatPromptTemplate\n",
    "\n",
    "\n",
    "system_prompt = (\n",
    "    \"You are an assistant for question-answering tasks. \"\n",
    "    \"Use the following pieces of retrieved context to answer \"\n",
    "    \"the question. If you don't know the answer,try to infer it \"\n",
    "    \"Use at most 1 sentence maximum and keep the \"\n",
    "    \"answer concise.\"\n",
    "    \"\\n\\n\"\n",
    "    \"{context}\"\n",
    ")\n",
    "\n",
    "prompt = ChatPromptTemplate.from_messages(\n",
    "    [\n",
    "        (\"system\", system_prompt),\n",
    "        (\"human\", \"{input}\"),\n",
    "    ]\n",
    ")\n",
    "\n",
    "question_answer_chain = create_stuff_documents_chain(ollama, prompt)\n"
   ]
  },
  {
   "cell_type": "markdown",
   "metadata": {},
   "source": [
    "# BENCHMARKS"
   ]
  },
  {
   "cell_type": "markdown",
   "metadata": {},
   "source": [
    "## Chunking modes and k-most relevant chunks"
   ]
  },
  {
   "cell_type": "code",
   "execution_count": null,
   "metadata": {},
   "outputs": [],
   "source": [
    "ChunkSizes = [300, 500, 1000, 2000, 4000]\n",
    "ChunkOverlaps = [50, 100, 200, 300, 1000]\n",
    "kk = [2, 6, 10, 25]"
   ]
  },
  {
   "cell_type": "code",
   "execution_count": null,
   "metadata": {},
   "outputs": [
    {
     "name": "stdout",
     "output_type": "stream",
     "text": [
      "for chunk size: 300, chunk overlap: 50, number of relevant chunks: 2 the similarity is: 0.578\n",
      "for chunk size: 300, chunk overlap: 50, number of relevant chunks: 6 the similarity is: 0.570\n",
      "for chunk size: 300, chunk overlap: 50, number of relevant chunks: 10 the similarity is: 0.601\n",
      "for chunk size: 300, chunk overlap: 50, number of relevant chunks: 25 the similarity is: 0.581\n",
      "for chunk size: 500, chunk overlap: 100, number of relevant chunks: 2 the similarity is: 0.546\n",
      "for chunk size: 500, chunk overlap: 100, number of relevant chunks: 6 the similarity is: 0.567\n",
      "for chunk size: 500, chunk overlap: 100, number of relevant chunks: 10 the similarity is: 0.600\n",
      "for chunk size: 500, chunk overlap: 100, number of relevant chunks: 25 the similarity is: 0.601\n",
      "for chunk size: 1000, chunk overlap: 200, number of relevant chunks: 2 the similarity is: 0.546\n",
      "for chunk size: 1000, chunk overlap: 200, number of relevant chunks: 6 the similarity is: 0.557\n",
      "for chunk size: 1000, chunk overlap: 200, number of relevant chunks: 10 the similarity is: 0.587\n",
      "for chunk size: 1000, chunk overlap: 200, number of relevant chunks: 25 the similarity is: 0.589\n",
      "for chunk size: 2000, chunk overlap: 300, number of relevant chunks: 2 the similarity is: 0.546\n",
      "for chunk size: 2000, chunk overlap: 300, number of relevant chunks: 6 the similarity is: 0.557\n",
      "for chunk size: 2000, chunk overlap: 300, number of relevant chunks: 10 the similarity is: 0.587\n",
      "for chunk size: 2000, chunk overlap: 300, number of relevant chunks: 25 the similarity is: 0.585\n",
      "for chunk size: 4000, chunk overlap: 1000, number of relevant chunks: 2 the similarity is: 0.546\n",
      "for chunk size: 4000, chunk overlap: 1000, number of relevant chunks: 6 the similarity is: 0.557\n",
      "for chunk size: 4000, chunk overlap: 1000, number of relevant chunks: 10 the similarity is: 0.587\n",
      "for chunk size: 4000, chunk overlap: 1000, number of relevant chunks: 25 the similarity is: 0.589\n"
     ]
    }
   ],
   "source": [
    "n = 10 #nr of questions to answer\n",
    "\n",
    "for i in range (0,5):    \n",
    "    \n",
    "    text_splitter = RecursiveCharacterTextSplitter(\n",
    "        chunk_size=ChunkSizes[i], chunk_overlap=ChunkOverlaps[i], add_start_index=True\n",
    "    )\n",
    "    all_splits = text_splitter.split_documents(docs)\n",
    "\n",
    "    vectorstore = Chroma.from_documents(documents=all_splits, embedding=oembed)\n",
    "\n",
    "    for k in range (0, 5):\n",
    "        retriever = vectorstore.as_retriever(search_type=\"similarity\", search_kwargs={\"k\": kk[k]})\n",
    "        rag_chain = create_retrieval_chain(retriever, question_answer_chain)  # Context is filled by the retriever\n",
    "        \n",
    "        \n",
    "        similarityScore = 0\n",
    "        for j in range (0,n):\n",
    "            response = rag_chain.invoke({\"input\": QUESTIONS[j]})\n",
    "            similarityScore += semanticSimilarity(response[\"answer\"], ANSWERS[j])\n",
    "            # print(i,\" :Done with \", j)\n",
    "\n",
    "        print(\"for chunk size: \", ChunkSizes[i], \", chunk overlap: \", ChunkOverlaps[i],\", number of relevant chunks: \", kk[k], \" the similarity is: \" , format(similarityScore / n, \".3f\"))\n"
   ]
  },
  {
   "cell_type": "markdown",
   "metadata": {},
   "source": [
    "## CLEANUP"
   ]
  },
  {
   "cell_type": "code",
   "execution_count": null,
   "metadata": {},
   "outputs": [],
   "source": [
    "vectorstore.delete_collection()"
   ]
  }
 ],
 "metadata": {
  "kernelspec": {
   "display_name": "newenv",
   "language": "python",
   "name": "python3"
  },
  "language_info": {
   "codemirror_mode": {
    "name": "ipython",
    "version": 3
   },
   "file_extension": ".py",
   "mimetype": "text/x-python",
   "name": "python",
   "nbconvert_exporter": "python",
   "pygments_lexer": "ipython3",
   "version": "3.12.3"
  }
 },
 "nbformat": 4,
 "nbformat_minor": 2
}
